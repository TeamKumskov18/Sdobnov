{
 "cells": [
  {
   "cell_type": "code",
   "execution_count": 24,
   "metadata": {},
   "outputs": [],
   "source": [
    "import numpy as np\n",
    "import sklearn.linear_model as lm\n",
    "import pandas"
   ]
  },
  {
   "cell_type": "code",
   "execution_count": 25,
   "metadata": {},
   "outputs": [
    {
     "name": "stdout",
     "output_type": "stream",
     "text": [
      "[74, 210]\n"
     ]
    }
   ],
   "source": [
    "##### Determe matrix sizes\n",
    "f = open (\"ALKAN.NMB\")\n",
    "help_mass = []\n",
    "for i in f:\n",
    "    for t in i.split():\n",
    "        try:\n",
    "            help_mass.append (int (t))\n",
    "        except ValueError:\n",
    "            pass\n",
    "print (help_mass)\n",
    "f.close ()\n",
    "n = help_mass[0]\n",
    "m = help_mass[1]\n"
   ]
  },
  {
   "cell_type": "code",
   "execution_count": 26,
   "metadata": {},
   "outputs": [
    {
     "name": "stdout",
     "output_type": "stream",
     "text": [
      "(74, 210)\n"
     ]
    }
   ],
   "source": [
    "##### Load data from *.BLD\n",
    "molecule = np.loadtxt (\"ALKAN.BLD\") \n",
    "print (molecule.shape)\n",
    "\n",
    "\n"
   ]
  },
  {
   "cell_type": "code",
   "execution_count": 51,
   "metadata": {},
   "outputs": [],
   "source": [
    "##### Create new data in csv format\n",
    "f = open (\"data\",\"w\")\n",
    "for i in range (m - 1):\n",
    "    f.write (str (i + 1) + \",\")\n",
    "    \n",
    "f.write (str (m) + \"\\n\")\n",
    "\n",
    "for i in range (n):\n",
    "    for j in range (m - 1):\n",
    "        \n",
    "        f.write (str (molecule[i][j]) + \",\")\n",
    "    f.write (str (molecule[i][m - 1]) + \"\\n\")\n"
   ]
  },
  {
   "cell_type": "code",
   "execution_count": 52,
   "metadata": {},
   "outputs": [],
   "source": [
    "##### Read data from *.csv file\n",
    "data = pandas.read_csv (\"data\")\n"
   ]
  },
  {
   "cell_type": "code",
   "execution_count": 124,
   "metadata": {},
   "outputs": [],
   "source": [
    "##### Standart linear regression\n",
    "import sklearn.linear_model as lm\n",
    "from sklearn.metrics import mean_squared_error\n",
    "from math import sqrt\n",
    "\n",
    "x = data.iloc[:,:]# data\n",
    "#print(data)\n",
    "\n",
    "y = data.iloc[:,-1]# testing data (last column)\n",
    "\n",
    "skm = lm.LinearRegression()\n",
    "# calculate parameters\n",
    "skm.fit(x, y)\n",
    "xx = skm.coef_\n",
    "y_res = np.linspace(1,74,74)\n",
    "for k in range(74):\n",
    "        y_res[k] = 0\n",
    "#print(y_res)\n",
    "j = 0\n",
    "for i in x.keys():\n",
    "    for k in range(74):\n",
    "        y_res[k] += xx[j] * x[i][k]\n",
    "    j += 1\n",
    "print(y_res;)\n",
    "#rms = sqrt(mean_squared_error(y, xx))    "
   ]
  },
  {
   "cell_type": "code",
   "execution_count": null,
   "metadata": {},
   "outputs": [],
   "source": [
    "import sklearn.linear_model as lm\n"
   ]
  },
  {
   "cell_type": "code",
   "execution_count": null,
   "metadata": {},
   "outputs": [],
   "source": []
  }
 ],
 "metadata": {
  "kernelspec": {
   "display_name": "Python 3",
   "language": "python",
   "name": "python3"
  },
  "language_info": {
   "codemirror_mode": {
    "name": "ipython",
    "version": 3
   },
   "file_extension": ".py",
   "mimetype": "text/x-python",
   "name": "python",
   "nbconvert_exporter": "python",
   "pygments_lexer": "ipython3",
   "version": "3.6.6"
  }
 },
 "nbformat": 4,
 "nbformat_minor": 2
}
