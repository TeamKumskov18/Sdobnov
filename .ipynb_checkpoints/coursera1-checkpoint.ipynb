{
 "cells": [
  {
   "cell_type": "markdown",
   "metadata": {},
   "source": [
    "Произведите нормировку матрицы из предыдущего задания: вычтите из каждого столбца его среднее значение, а затем поделите на его стандартное отклонение."
   ]
  },
  {
   "cell_type": "code",
   "execution_count": 45,
   "metadata": {},
   "outputs": [
    {
     "name": "stdout",
     "output_type": "stream",
     "text": [
      "[[29 29 13 29 16]\n",
      " [25 18 20 21 17]\n",
      " [15 14 17 23 19]\n",
      " [13 28 15 13 14]\n",
      " [25 14 11 29 16]]\n",
      "\n",
      "[[ 1.21635036  1.2686564  -0.70420284  1.01129979 -0.24618298]\n",
      " [ 0.57616596 -0.39267936  1.53644256 -0.33709993  0.36927447]\n",
      " [-1.02429504 -0.99680145  0.57616596  0.          1.60018938]\n",
      " [-1.34438724  1.11762587 -0.06401844 -1.68549966 -1.47709789]\n",
      " [ 0.57616596 -0.99680145 -1.34438724  1.01129979 -0.24618298]]\n"
     ]
    }
   ],
   "source": [
    "import numpy as np\n",
    "X=np.random.randint(10,30,size=(5,5))\n",
    "print(X,end=\"\\n\\n\")\n",
    "m = np.mean(X, axis=0)\n",
    "std = np.std(X, axis=0)\n",
    "X_norm = ((X - m)  / std)\n",
    "print (X_norm)"
   ]
  },
  {
   "cell_type": "markdown",
   "metadata": {},
   "source": [
    "Выведите для заданной матрицы номера строк, сумма элементов в которых превосходит 10."
   ]
  },
  {
   "cell_type": "code",
   "execution_count": 29,
   "metadata": {},
   "outputs": [
    {
     "name": "stdout",
     "output_type": "stream",
     "text": [
      "[[2 2 4 3 1]\n",
      " [2 3 1 2 1]\n",
      " [4 1 3 3 1]\n",
      " [4 3 1 1 4]\n",
      " [1 2 1 1 4]]\n",
      "1 - 12\n",
      "3 - 12\n",
      "4 - 13\n"
     ]
    }
   ],
   "source": [
    "a=np.random.randint(1,5,size=(5,5))\n",
    "print(a)\n",
    "r=a.sum(axis=1)\n",
    "for i in range(a.shape[0]):\n",
    "    if r[i]>10:\n",
    "        print(i + 1,\"-\",r[i])"
   ]
  },
  {
   "cell_type": "markdown",
   "metadata": {},
   "source": [
    "Сгенерируйте две единичные матрицы (т.е. с единицами на диагонали) размера 3x3. Соедините две матрицы в одну размера 6x3.\n",
    "\n"
   ]
  },
  {
   "cell_type": "code",
   "execution_count": 42,
   "metadata": {},
   "outputs": [
    {
     "name": "stdout",
     "output_type": "stream",
     "text": [
      "[[1. 0. 0.]\n",
      " [0. 1. 0.]\n",
      " [0. 0. 1.]\n",
      " [1. 0. 0.]\n",
      " [0. 1. 0.]\n",
      " [0. 0. 1.]]\n",
      "\n",
      "[[1. 0. 0. 1. 0. 0.]\n",
      " [0. 1. 0. 0. 1. 0.]\n",
      " [0. 0. 1. 0. 0. 1.]]\n"
     ]
    }
   ],
   "source": [
    "a=np.eye(3)\n",
    "b=np.eye(3)\n",
    "c=np.vstack((a,b))\n",
    "print(c)\n",
    "print()\n",
    "c=np.hstack((a,b))\n",
    "print(c)"
   ]
  },
  {
   "cell_type": "code",
   "execution_count": null,
   "metadata": {},
   "outputs": [],
   "source": []
  }
 ],
 "metadata": {
  "kernelspec": {
   "display_name": "Python 3",
   "language": "python",
   "name": "python3"
  },
  "language_info": {
   "codemirror_mode": {
    "name": "ipython",
    "version": 3
   },
   "file_extension": ".py",
   "mimetype": "text/x-python",
   "name": "python",
   "nbconvert_exporter": "python",
   "pygments_lexer": "ipython3",
   "version": "3.6.5"
  }
 },
 "nbformat": 4,
 "nbformat_minor": 2
}
